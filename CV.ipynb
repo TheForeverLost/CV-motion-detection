{
 "cells": [
  {
   "cell_type": "code",
   "execution_count": 1,
   "metadata": {},
   "outputs": [],
   "source": [
    "import numpy as np\n",
    "import cv2"
   ]
  },
  {
   "cell_type": "code",
   "execution_count": 1,
   "metadata": {},
   "outputs": [],
   "source": [
    "\n",
    "img = [1,2,3,4,5]\n",
    "img[0] =  cv2.imread(\"/home/alan/Pictures/Screenshot from 2018-10-13 09-51-12.png\",0)\n",
    "img[1]=  cv2.imread(\"/home/alan/Pictures/Screenshot from 2018-10-13 09-52-42.png\",0)\n",
    "retval, img[2]= cv2.threshold(img[0], 40 , 255, cv2.THRESH_BINARY)\n",
    "retval, img[3]= cv2.threshold(img[1], 40, 255, cv2.THRESH_BINARY)\n",
    "img[4]  = img[2]-img[3]\n",
    "for image in img:\n",
    "    cv2.imshow(\"macOS\",image)\n",
    "    cv2.waitKey(0)\n",
    "    cv2.destroyAllWindows()"
   ]
  },
  {
   "cell_type": "code",
   "execution_count": 16,
   "metadata": {},
   "outputs": [],
   "source": [
    "cap = cv2.VideoCapture(0) \n",
    "ret,iframe = cap.read()\n",
    "\n",
    "## BASIC MOTION DETECTION\n",
    "## NEEDS OPTIMIZATION\n",
    "while(True):\n",
    "    iframe = cv2.resize(iframe,(300,300))\n",
    "    gray1 = cv2.cvtColor(iframe, cv2.COLOR_BGR2GRAY)\n",
    "    ret, frame = cap.read()\n",
    "    frame = cv2.resize(frame,(300,300))\n",
    "    gray2 = cv2.cvtColor(frame, cv2.COLOR_BGR2GRAY)\n",
    "    \n",
    "    ret,thresh1 =cv2.threshold(gray1,65,255,cv2.THRESH_BINARY)\n",
    "    ret,thresh2 =cv2.threshold(gray2,65,255,cv2.THRESH_BINARY)\n",
    "    diff = thresh1 - thresh2\n",
    "    diff = cv2.GaussianBlur(diff,(13,13),3)\n",
    "    cv2.imshow('frame1',frame)\n",
    "    cv2.imshow('frame2',gray2)\n",
    "    cv2.imshow('frame3',thresh2)\n",
    "    cv2.imshow('frame4',diff)\n",
    "    iframe = frame\n",
    "    if cv2.waitKey(10) & 0xFF == ord('q'):\n",
    "        break\n",
    "    \n",
    "\n",
    "cap.release()\n",
    "cv2.destroyAllWindows()"
   ]
  },
  {
   "cell_type": "code",
   "execution_count": null,
   "metadata": {},
   "outputs": [],
   "source": []
  }
 ],
 "metadata": {
  "kernelspec": {
   "display_name": "Python 3",
   "language": "python",
   "name": "python3"
  },
  "language_info": {
   "codemirror_mode": {
    "name": "ipython",
    "version": 3
   },
   "file_extension": ".py",
   "mimetype": "text/x-python",
   "name": "python",
   "nbconvert_exporter": "python",
   "pygments_lexer": "ipython3",
   "version": "3.7.1"
  }
 },
 "nbformat": 4,
 "nbformat_minor": 2
}
